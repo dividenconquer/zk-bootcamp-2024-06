{
 "cells": [
  {
   "cell_type": "code",
   "execution_count": 1,
   "id": "a4f89fc9-395a-4a97-9c7f-f95d5d3710a8",
   "metadata": {},
   "outputs": [
    {
     "name": "stdout",
     "output_type": "stream",
     "text": [
      "Requirement already satisfied: galois in /opt/conda/lib/python3.11/site-packages (0.3.9)\n",
      "Requirement already satisfied: numpy<1.27,>=1.21.0 in /opt/conda/lib/python3.11/site-packages (from galois) (1.26.4)\n",
      "Requirement already satisfied: numba<0.60,>=0.55 in /opt/conda/lib/python3.11/site-packages (from galois) (0.59.1)\n",
      "Requirement already satisfied: typing-extensions>=4.0.0 in /opt/conda/lib/python3.11/site-packages (from galois) (4.11.0)\n",
      "Requirement already satisfied: llvmlite<0.43,>=0.42.0dev0 in /opt/conda/lib/python3.11/site-packages (from numba<0.60,>=0.55->galois) (0.42.0)\n"
     ]
    }
   ],
   "source": [
    "!python -m pip install galois\n",
    "import galois"
   ]
  },
  {
   "cell_type": "markdown",
   "id": "23b2c044-d2a3-4a4a-ba95-9f3dcaf0ea49",
   "metadata": {},
   "source": [
    "assume the finite field is p = 71."
   ]
  },
  {
   "cell_type": "code",
   "execution_count": 57,
   "id": "6b93f77c-5ec2-4dd6-9e64-c4ee876ff2d4",
   "metadata": {},
   "outputs": [],
   "source": [
    "GF71 = galois.GF(71)"
   ]
  },
  {
   "cell_type": "markdown",
   "id": "8ef55738-c811-4901-ae4d-d6f85079104a",
   "metadata": {},
   "source": [
    "## Problem 1\n",
    "\n",
    "Find the elements in a finite field that are congruent to the following values:\n",
    "\n",
    "- -1\n",
    "- -4\n",
    "- -160\n",
    "- 500"
   ]
  },
  {
   "cell_type": "code",
   "execution_count": 60,
   "id": "aea91c55-9a30-4ee0-87eb-f355b871271a",
   "metadata": {},
   "outputs": [
    {
     "name": "stdout",
     "output_type": "stream",
     "text": [
      "[70]\n",
      "[67]\n",
      "[53]\n",
      "[3]\n"
     ]
    }
   ],
   "source": [
    "list = [-1, -4, -160, 500]\n",
    "for i in list:\n",
    "    p = galois.Poly([1, i % 71 * -1], field=GF71)\n",
    "    print(p.roots())"
   ]
  },
  {
   "cell_type": "markdown",
   "id": "738dc4bc-c1c2-4ec7-90ee-6d364a81a47e",
   "metadata": {},
   "source": [
    "## Problem 2\n",
    "\n",
    "Find the elements that are congruent to a = 5/6, b = 11/12, and c = 21/12\n",
    "\n",
    "Verify your answer by checking that a + b = c (in the finite field)"
   ]
  },
  {
   "cell_type": "code",
   "execution_count": 4,
   "id": "a0f6f33c-a0da-4de8-a9c2-4d86296a22ea",
   "metadata": {},
   "outputs": [
    {
     "name": "stdout",
     "output_type": "stream",
     "text": [
      "60 66 55\n"
     ]
    }
   ],
   "source": [
    "a = GF71(6) ** -1 * 5\n",
    "b = GF71(12) ** -1 * 11\n",
    "c = GF71(12) ** -1 * 21\n",
    "\n",
    "print(a, b, c)\n",
    "assert(a + b == c)"
   ]
  },
  {
   "cell_type": "markdown",
   "id": "08b8b656-83f4-427d-b98a-a2549af7aba3",
   "metadata": {},
   "source": [
    "## Problem 3\n",
    "\n",
    "Find the elements that are congruent to a = 2/3, b = 1/2, and c = 1/3.\n",
    "\n",
    "Verify your answer by checking that a * b = c (in the finite field)"
   ]
  },
  {
   "cell_type": "code",
   "execution_count": 5,
   "id": "f4935a61-84d8-45ae-80a8-8de56db3b6b9",
   "metadata": {},
   "outputs": [],
   "source": [
    "a = GF71(3) ** -1 * 2\n",
    "b = GF71(2) ** -1 * 1\n",
    "c = GF71(3) ** -1 * 1\n",
    "\n",
    "assert(a*b == c)"
   ]
  },
  {
   "cell_type": "markdown",
   "id": "7984290a-a0ff-435e-9387-cfc06ef499e7",
   "metadata": {},
   "source": [
    "## Problem 4\n",
    "\n",
    "What is the modular square root of 12?\n",
    "\n",
    "Verify your answer by checking that x * x = 12 (mod 71)"
   ]
  },
  {
   "cell_type": "code",
   "execution_count": 18,
   "id": "1bce3d3c-cd83-4211-b4e3-ae3b6479d7d8",
   "metadata": {},
   "outputs": [
    {
     "name": "stdout",
     "output_type": "stream",
     "text": [
      "x^2 + 59\n"
     ]
    }
   ],
   "source": [
    "a = galois.Poly([1,0,-12], field=GF71)\n",
    "print(a)\n",
    "for root in a.roots():\n",
    "    assert(root ** 2 == 12)"
   ]
  },
  {
   "cell_type": "markdown",
   "id": "244612a5-a83a-4347-925b-183ce28cc179",
   "metadata": {},
   "source": [
    "## Problem 5\n",
    "\n",
    "The inverse of a 2 x 2 matrix A is\n",
    "\n",
    "$$\n",
    "A^{-1}=\\frac{1}{\\text{det}}\\begin{bmatrix}d & -b\\\\-c & a\\end{bmatrix}\n",
    "$$\n",
    "\n",
    "where A is\n",
    "\n",
    "$$\n",
    "A = \\begin{bmatrix}a & b\\\\c & d\\end{bmatrix}\n",
    "$$\n",
    "\n",
    "And the determinant det is\n",
    "\n",
    "$$\n",
    "\\text{det}=a \\times d-b\\times c\n",
    "$$\n",
    "\n",
    "Compute the inverse of the following matrix:\n",
    "\n",
    "$$\n",
    "\\begin{bmatrix}1 & 1\\\\1 & 4\\end{bmatrix}\n",
    "$$\n",
    "\n",
    "Verify your answer by checking that\n",
    "\n",
    "$$\n",
    "AA^{-1}=I\n",
    "$$\n",
    "\n",
    "Where I is the identity matrix."
   ]
  },
  {
   "cell_type": "code",
   "execution_count": 40,
   "id": "5d394ecf-a666-4c37-bceb-91e3afd7637e",
   "metadata": {},
   "outputs": [],
   "source": [
    "a = GF71([[1, 1], [1, 4]])\n",
    "import numpy as np\n",
    "a_inv = np.linalg.inv(a)\n",
    "\n",
    "assert(np.array_equal(a @ a_inv, np.identity(2)))"
   ]
  },
  {
   "cell_type": "markdown",
   "id": "0769e180-bf36-4733-9ca0-43add3b521fd",
   "metadata": {},
   "source": [
    "## Problem 6\n",
    "\n",
    "Suppose we have the following polynomials:\n",
    "\n",
    "$$\n",
    "p(x)=52x^2+24x+61\\\\q(x)=40x^2+40x+58\n",
    "$$\n",
    "\n",
    "What is p(x) + q(x)? What is p(x) * q(x)?\n",
    "\n",
    "Use the `galois` library in python to find the roots of p(x) and q(x).\n",
    "\n",
    "What are the roots of p(x)q(x)?"
   ]
  },
  {
   "cell_type": "code",
   "execution_count": 56,
   "id": "a696b558-6dcb-4755-8b4d-3350c54c5045",
   "metadata": {},
   "outputs": [
    {
     "name": "stdout",
     "output_type": "stream",
     "text": [
      "p_plus_q: 21x^2 + 64x + 48\n",
      "p_times_q: 21x^4 + 58x^3 + 26x^2 + 69x + 59\n",
      "roots of p: [34 42]\n",
      "roots of q: []\n",
      "roots of p(x)q(x): [34 42]\n"
     ]
    }
   ],
   "source": [
    "p = galois.Poly([52, 24, 61], field=GF71)\n",
    "q = galois.Poly([40,40,58], field=GF71)\n",
    "p_plus_q = p + q\n",
    "p_times_q = p * q\n",
    "print(f\"p_plus_q: %s\" % p_plus_q)\n",
    "print(f\"p_times_q: %s\" % p_times_q)\n",
    "print(f\"roots of p: %s\" % p.roots())\n",
    "print(f\"roots of q: %s\" % q.roots())\n",
    "print(f\"roots of p(x)q(x): %s\" % p_times_q.roots())"
   ]
  },
  {
   "cell_type": "markdown",
   "id": "30f0e66c-c96d-422b-898c-c80755df5213",
   "metadata": {},
   "source": [
    "## Problem 7\n",
    "\n",
    "Find a polynomial f(x) that crosses the points (10, 15), (23, 29).\n",
    "\n",
    "Since these are two points, the polynomial will be of degree 1 and be the equation for a line (y = ax + b).\n",
    "\n",
    "Verify your answer by checking that f(10) = 15 and f(23) = 29."
   ]
  },
  {
   "cell_type": "code",
   "execution_count": 69,
   "id": "40e71223-47f6-4bf3-8e52-078732327511",
   "metadata": {},
   "outputs": [],
   "source": [
    "f = GF71([[10, 1],[23, 1]])\n",
    "f_inv = np.linalg.inv(f)\n",
    "a_and_b = f_inv @ GF71([[15], [29]])\n",
    "\n",
    "assert(np.array_equal(GF71([[10,1],[23, 1]]) @ a_and_b, GF71([[15], [29]])))"
   ]
  },
  {
   "cell_type": "markdown",
   "id": "d3c01056-3ec3-4fbf-9572-3a9eaff6facf",
   "metadata": {},
   "source": [
    "## Problem 8\n",
    "\n",
    "What is Lagrange interpolation and what does it do?\n",
    "\n",
    "Find a polynomial that crosses through the points (0, 1), (1, 2), (2, 1).\n",
    "\n",
    "Use this Stackoverflow answer as a starting point: https://stackoverflow.com/a/73434775"
   ]
  },
  {
   "cell_type": "code",
   "execution_count": 71,
   "id": "74c2aebd-9c69-4705-83af-34f5a90d0cb0",
   "metadata": {},
   "outputs": [
    {
     "data": {
      "text/plain": [
       "GF([1, 2, 1], order=71)"
      ]
     },
     "execution_count": 71,
     "metadata": {},
     "output_type": "execute_result"
    }
   ],
   "source": [
    "x = GF71([0,1,2])\n",
    "y = GF71([1,2,1])\n",
    "\n",
    "f = galois.lagrange_poly(x, y)\n",
    "f(x)"
   ]
  }
 ],
 "metadata": {
  "kernelspec": {
   "display_name": "Python 3 (ipykernel)",
   "language": "python",
   "name": "python3"
  },
  "language_info": {
   "codemirror_mode": {
    "name": "ipython",
    "version": 3
   },
   "file_extension": ".py",
   "mimetype": "text/x-python",
   "name": "python",
   "nbconvert_exporter": "python",
   "pygments_lexer": "ipython3",
   "version": "3.11.9"
  }
 },
 "nbformat": 4,
 "nbformat_minor": 5
}
